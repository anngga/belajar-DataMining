{
  "nbformat": 4,
  "nbformat_minor": 0,
  "metadata": {
    "colab": {
      "name": "Preprocessing Data02.ipynb",
      "provenance": [],
      "collapsed_sections": []
    },
    "kernelspec": {
      "name": "python3",
      "display_name": "Python 3"
    },
    "language_info": {
      "name": "python"
    }
  },
  "cells": [
    {
      "cell_type": "markdown",
      "metadata": {
        "id": "Vjdjgog3Q9cz"
      },
      "source": [
        "library ***numpy*** digunakan untuk mengelola komputasi matrix\n",
        "\n",
        "pada code di bawah numpy diinisialisasikan dengan *np*. Jadi pada saat ingin memanggil library numpy, kita cukup menulis *np* saja\n",
        "\n",
        "library ***matplotlib*** digunakan untuk presentasi data berupa grafik (plot)\n",
        "\n",
        "library ***pandas*** digunakan untuk mengambil/mengimport data dari sumber luar. Misalkan kita ingin mengimport file .csv, excel, .txt kita bisa gunakan library *pandas*"
      ]
    },
    {
      "cell_type": "code",
      "metadata": {
        "id": "I6ouR0sNuRTO"
      },
      "source": [
        "import numpy as np\n",
        "import matplotlib.pyplot as plt\n",
        "import pandas as pd"
      ],
      "execution_count": 4,
      "outputs": []
    },
    {
      "cell_type": "markdown",
      "metadata": {
        "id": "QxZnagSPhKNt"
      },
      "source": [
        "***dataset*** merupakan variabel baru yang digunakan untuk membaca Data02.csv\n",
        "\n",
        "Data yang ada pada excel, akan dibagi kedalam 2 buah variabel (x dan y).\n",
        "Dimana untuk Country, Age, Salary akan dimasukkan ke dalam variabel x (atribut regulernya).\n",
        "Kemudian variabel *y* untuk menampung label nya/class nya.\n",
        "\n",
        "x = dataset.iloc[:, :-1].values Digunakan untuk memanggil semua data yang berada pada variabel x (Country, Age, Salary) kecuali Purchased (variabel y)."
      ]
    },
    {
      "cell_type": "code",
      "metadata": {
        "id": "lle1urBPgo4r"
      },
      "source": [
        "dataset = pd.read_csv('Data02.csv')\n",
        "x = dataset.iloc[:, :-1].values\n",
        "y = dataset.iloc[:, -1].values"
      ],
      "execution_count": 5,
      "outputs": []
    },
    {
      "cell_type": "markdown",
      "metadata": {
        "id": "-e0WYMS9DLYo"
      },
      "source": [
        "print(x), digunakan untuk menampilkan data yang berada pada variabel x.\n",
        "*nan* adalah tampilan jika data kosong (null)"
      ]
    },
    {
      "cell_type": "code",
      "metadata": {
        "colab": {
          "base_uri": "https://localhost:8080/"
        },
        "id": "hxhTd3CHkRRx",
        "outputId": "9144c7b5-ca5e-4438-9b05-6705087c8f60"
      },
      "source": [
        "print(x)"
      ],
      "execution_count": 6,
      "outputs": [
        {
          "output_type": "stream",
          "text": [
            "[['Semarang' 44.0 72000.0]\n",
            " ['Jepara' 27.0 48000.0]\n",
            " ['Solo' 30.0 54000.0]\n",
            " ['Jepara' 38.0 61000.0]\n",
            " ['Solo' 40.0 nan]\n",
            " ['Semarang' 35.0 58000.0]\n",
            " ['Jepara' nan 52000.0]\n",
            " ['Semarang' 48.0 79000.0]\n",
            " ['Salatiga' 50.0 83000.0]\n",
            " ['Semarang' 37.0 67000.0]]\n"
          ],
          "name": "stdout"
        }
      ]
    },
    {
      "cell_type": "markdown",
      "metadata": {
        "id": "xKdSry5TkqS-"
      },
      "source": [
        "print(y)\n",
        "kita gunakan untuk cek apakah data sama dengan yang ada pada file .csv"
      ]
    },
    {
      "cell_type": "code",
      "metadata": {
        "colab": {
          "base_uri": "https://localhost:8080/"
        },
        "id": "VTE8Qh3FkhDA",
        "outputId": "dbf6bf67-65c0-4607-b686-ad3a3d75651e"
      },
      "source": [
        "print(y)"
      ],
      "execution_count": 7,
      "outputs": [
        {
          "output_type": "stream",
          "text": [
            "['No' 'Yes' 'No' 'No' 'Yes' 'Yes' 'No' 'Yes' 'No' 'Yes']\n"
          ],
          "name": "stdout"
        }
      ]
    },
    {
      "cell_type": "markdown",
      "metadata": {
        "id": "FTydogWYlY8D"
      },
      "source": [
        "Setelah kita berhasil mengimport dataset, kita akan menghilangkan missing value (nan) dengan cara kita mengganti dengan rata-rata kolomnya\n",
        "caranya :\n",
        "function simple imputer\n",
        "kita gunakan library ***sklearn***.\n",
        "\n",
        "Kita mendeskripsikan bahwa variabel missing_values adalah data yang ada pada numpay(np), untuk mendeteksi nan, dengan strategi *mean* (nilai rata-rata).\n",
        "Lalu kita *fit*-kan, dan kita overwrite variabel x\n",
        "fit(x[:, 1:3])\n",
        "x kita ambil semua recordnya, kemudian ambil dari kolom pertama sampai yang ketiga.\n",
        "Lalu kita transform-kan"
      ]
    },
    {
      "cell_type": "code",
      "metadata": {
        "id": "sN8h6tHnmMaf"
      },
      "source": [
        "from sklearn.impute import SimpleImputer\n",
        "imputer = SimpleImputer(missing_values=np.nan, strategy='mean')\n",
        "imputer.fit(x[:, 1:3])\n",
        "x[:, 1:3] = imputer.transform(x[:, 1:3])"
      ],
      "execution_count": 8,
      "outputs": []
    },
    {
      "cell_type": "markdown",
      "metadata": {
        "id": "GzTTlvaPpY9w"
      },
      "source": [
        "kita cek kembali pada variabel x, apakah sudah berubah."
      ]
    },
    {
      "cell_type": "code",
      "metadata": {
        "colab": {
          "base_uri": "https://localhost:8080/"
        },
        "id": "B1L8FesKpTCn",
        "outputId": "4dfc46e1-ceec-414e-83e7-297c483df622"
      },
      "source": [
        "print(x)"
      ],
      "execution_count": 9,
      "outputs": [
        {
          "output_type": "stream",
          "text": [
            "[['Semarang' 44.0 72000.0]\n",
            " ['Jepara' 27.0 48000.0]\n",
            " ['Solo' 30.0 54000.0]\n",
            " ['Jepara' 38.0 61000.0]\n",
            " ['Solo' 40.0 63777.77777777778]\n",
            " ['Semarang' 35.0 58000.0]\n",
            " ['Jepara' 38.77777777777778 52000.0]\n",
            " ['Semarang' 48.0 79000.0]\n",
            " ['Salatiga' 50.0 83000.0]\n",
            " ['Semarang' 37.0 67000.0]]\n"
          ],
          "name": "stdout"
        }
      ]
    },
    {
      "cell_type": "markdown",
      "metadata": {
        "id": "4HTb8Wljrbe7"
      },
      "source": [
        "kita panggil function ***ColumnTransformer*** dari library *sklearn* dalam folder compose.\n",
        "kita panggil function ***OneHotEncoder*** untuk mengkodingkan dalam bentuk matrix (dari nominal ke matrix), di dalam library sklearn, folder preprocessing.\n",
        "\n",
        "Kemudian kita panggil function ColumnTransformer (dengan inisial ct), untuk encodernya menggunakan OneHotEncoder, dengan remainder passthrough.\n",
        "\n",
        "Kemudian kita ubah formatnya ke dalam array, menggunakan library numpay, lalu kita fit transform\n"
      ]
    },
    {
      "cell_type": "code",
      "metadata": {
        "id": "VQgvAWPKqQda"
      },
      "source": [
        "from sklearn.compose import ColumnTransformer\n",
        "from sklearn.preprocessing import OneHotEncoder\n",
        "ct = ColumnTransformer(transformers=[('encoder', OneHotEncoder(), [0])], remainder='passthrough')\n",
        "x = np.array(ct.fit_transform(x))"
      ],
      "execution_count": 10,
      "outputs": []
    },
    {
      "cell_type": "markdown",
      "metadata": {
        "id": "NRPMMz47tguh"
      },
      "source": [
        "kita cek, apakah nilainya sudah berubah menjadi matrix orde 4. Jika kita ingin merubah nilainya menjadi orde 5, kita tinggal run lagi coding diatas, lalu kita cetak lagi hasilnya print(x), dst."
      ]
    },
    {
      "cell_type": "code",
      "metadata": {
        "colab": {
          "base_uri": "https://localhost:8080/"
        },
        "id": "mFaKUk1XtW6a",
        "outputId": "d3fce6b6-69c3-43d8-9231-a1d86ed1f238"
      },
      "source": [
        "print(x)"
      ],
      "execution_count": 11,
      "outputs": [
        {
          "output_type": "stream",
          "text": [
            "[[0.0 0.0 1.0 0.0 44.0 72000.0]\n",
            " [1.0 0.0 0.0 0.0 27.0 48000.0]\n",
            " [0.0 0.0 0.0 1.0 30.0 54000.0]\n",
            " [1.0 0.0 0.0 0.0 38.0 61000.0]\n",
            " [0.0 0.0 0.0 1.0 40.0 63777.77777777778]\n",
            " [0.0 0.0 1.0 0.0 35.0 58000.0]\n",
            " [1.0 0.0 0.0 0.0 38.77777777777778 52000.0]\n",
            " [0.0 0.0 1.0 0.0 48.0 79000.0]\n",
            " [0.0 1.0 0.0 0.0 50.0 83000.0]\n",
            " [0.0 0.0 1.0 0.0 37.0 67000.0]]\n"
          ],
          "name": "stdout"
        }
      ]
    },
    {
      "cell_type": "markdown",
      "metadata": {
        "id": "09duaaxjubfi"
      },
      "source": [
        "Setelah kita meng-encode data kategori/atributnya, langkah selanjutnya kita encode labelnya (yes, & no) kita ubah ke bentuk numerik.\n",
        "Yaitu :\n",
        "No, kita ubah ke 0\n",
        "Yes, kita ubah ke 1\n",
        "menggunakan function labelEncoder dari sklearn"
      ]
    },
    {
      "cell_type": "markdown",
      "metadata": {
        "id": "7RIa42BQwHjy"
      },
      "source": [
        "kita buat variabel baru le(LabelEncoder)\n",
        "lalu kita masukkan ke dalam variabel y kembali (kita timpa), yang sebelumnya No,Yes,No, Yes menjadi nilai 0,1,0,1"
      ]
    },
    {
      "cell_type": "code",
      "metadata": {
        "id": "A_klRE4ovjd3"
      },
      "source": [
        "from sklearn.preprocessing import LabelEncoder\n",
        "le = LabelEncoder()\n",
        "y = le.fit_transform(y)"
      ],
      "execution_count": 12,
      "outputs": []
    },
    {
      "cell_type": "markdown",
      "metadata": {
        "id": "OrC8-Qzpw3fi"
      },
      "source": [
        "lalu kita cek apakah variabel y sudah berubah nilainya"
      ]
    },
    {
      "cell_type": "code",
      "metadata": {
        "colab": {
          "base_uri": "https://localhost:8080/"
        },
        "id": "OyhDxKxzwyqT",
        "outputId": "fb10baf0-23e8-4498-e637-cb53782e509d"
      },
      "source": [
        "print(y)"
      ],
      "execution_count": 13,
      "outputs": [
        {
          "output_type": "stream",
          "text": [
            "[0 1 0 0 1 1 0 1 0 1]\n"
          ],
          "name": "stdout"
        }
      ]
    },
    {
      "cell_type": "markdown",
      "metadata": {
        "id": "oFaGHLm_xf8U"
      },
      "source": [
        "membagi dataset menjadi data training, dan data testing"
      ]
    },
    {
      "cell_type": "markdown",
      "metadata": {
        "id": "iqo9PQHux3-Y"
      },
      "source": [
        "kita panggil function *train_test_split *di dalam library sklearn, kemudian model_selection"
      ]
    },
    {
      "cell_type": "markdown",
      "metadata": {
        "id": "F6U2k_axzWrr"
      },
      "source": [
        "masukkan yang atribut regulernya untuk training kita masukkan ke *x_train*, kemudian yang testing kita masukkan ke *x_test* "
      ]
    },
    {
      "cell_type": "markdown",
      "metadata": {
        "id": "rVm0uVd7z1Rd"
      },
      "source": [
        "kemudian yang labelnya\n",
        "y_train, dan y_test"
      ]
    },
    {
      "cell_type": "markdown",
      "metadata": {
        "id": "BOJ3X9wlz_gS"
      },
      "source": [
        "kita pisahkan dengan function *train_test_split *. Kita pisahkan antara atribut reguler (x) dan atribut label (y).\n",
        "kitabuat test_size menjadi 0.2 \n",
        "maksudnya adalah kita buat pembagiannya data testing nya 20%, data training nya 80%.\n",
        "\n",
        "Kemudian random_state=1 untuk merandom mengambil 80% dari 10 record disimpan kedalam variabel x_train"
      ]
    },
    {
      "cell_type": "code",
      "metadata": {
        "id": "pHfg8ybIxlqB"
      },
      "source": [
        "from sklearn.model_selection import train_test_split\n",
        "x_train, x_test, y_train, y_test = train_test_split(x, y, test_size=0.2, random_state=1)"
      ],
      "execution_count": 20,
      "outputs": []
    },
    {
      "cell_type": "markdown",
      "metadata": {
        "id": "oGOJ5VhF1TU3"
      },
      "source": [
        "kita cek x_train"
      ]
    },
    {
      "cell_type": "code",
      "metadata": {
        "colab": {
          "base_uri": "https://localhost:8080/"
        },
        "id": "l-fL9zY_zCwS",
        "outputId": "0b493dd2-0a7c-4a00-c19c-2ed1be297e25"
      },
      "source": [
        "print(x_train)"
      ],
      "execution_count": 21,
      "outputs": [
        {
          "output_type": "stream",
          "text": [
            "[[1.0 0.0 0.0 0.0 38.77777777777778 52000.0]\n",
            " [0.0 0.0 0.0 1.0 40.0 63777.77777777778]\n",
            " [0.0 0.0 1.0 0.0 44.0 72000.0]\n",
            " [1.0 0.0 0.0 0.0 38.0 61000.0]\n",
            " [1.0 0.0 0.0 0.0 27.0 48000.0]\n",
            " [0.0 0.0 1.0 0.0 48.0 79000.0]\n",
            " [0.0 1.0 0.0 0.0 50.0 83000.0]\n",
            " [0.0 0.0 1.0 0.0 35.0 58000.0]]\n"
          ],
          "name": "stdout"
        }
      ]
    },
    {
      "cell_type": "markdown",
      "metadata": {
        "id": "93TKCVn-2lSh"
      },
      "source": [
        "kita panggil x_test, maka akan menampilkan 2 data saja sesuai dengan pembagian data pada perintah sebelumnya 0.2 / 20% dari 10 record"
      ]
    },
    {
      "cell_type": "code",
      "metadata": {
        "colab": {
          "base_uri": "https://localhost:8080/"
        },
        "id": "byAAS0XC2Q86",
        "outputId": "1d122e45-340d-462a-ff4a-369957db6a8f"
      },
      "source": [
        "print(x_test)"
      ],
      "execution_count": 22,
      "outputs": [
        {
          "output_type": "stream",
          "text": [
            "[[0.0 0.0 0.0 1.0 30.0 54000.0]\n",
            " [0.0 0.0 1.0 0.0 37.0 67000.0]]\n"
          ],
          "name": "stdout"
        }
      ]
    },
    {
      "cell_type": "markdown",
      "metadata": {
        "id": "XPd0IuzK3L-E"
      },
      "source": [
        "kita cek y_train. akan menampilkan 8 data"
      ]
    },
    {
      "cell_type": "code",
      "metadata": {
        "colab": {
          "base_uri": "https://localhost:8080/"
        },
        "id": "2YW0XBGt3AYn",
        "outputId": "3b6dab84-923d-4b9f-aaee-c2033bb47fc6"
      },
      "source": [
        "print(y_train)"
      ],
      "execution_count": 23,
      "outputs": [
        {
          "output_type": "stream",
          "text": [
            "[0 1 0 0 1 1 0 1]\n"
          ],
          "name": "stdout"
        }
      ]
    },
    {
      "cell_type": "markdown",
      "metadata": {
        "id": "UiN618DO3Xmd"
      },
      "source": [
        "kita jalankan y_test maka akan menampilkan 2 data, karena hanya mengambil 20% dari 10 record"
      ]
    },
    {
      "cell_type": "code",
      "metadata": {
        "colab": {
          "base_uri": "https://localhost:8080/"
        },
        "id": "EimY4lQh3SRa",
        "outputId": "27e0affb-77e6-4bbc-defa-4949fe482e0a"
      },
      "source": [
        "print(y_test)"
      ],
      "execution_count": 24,
      "outputs": [
        {
          "output_type": "stream",
          "text": [
            "[0 1]\n"
          ],
          "name": "stdout"
        }
      ]
    },
    {
      "cell_type": "markdown",
      "metadata": {
        "id": "0iuOZAFw3qKc"
      },
      "source": [
        " karena kita masih mengalami satu kendala, bahwa untuk skala dari umur dengan skala untuk salary terlalu besar. Oleh karena itu untuk komputasinya di dalam pengolahan data nanti, kita sebaiknya menggunakan skala menggunakan fitur scale\n",
        "\n",
        "Kita bisa menggunakan StandardScale, MinMaxScale, atau robahScaler\n",
        "\n",
        "Disini kita akan coba menggunakan standardScaler\n"
      ]
    },
    {
      "cell_type": "markdown",
      "metadata": {
        "id": "cf84fzCU76L3"
      },
      "source": [
        "kita panggil standardScaler dari sklearn di dalam preprocessing\n",
        "\n",
        "kemudian kita panggil sc = StandardScaler"
      ]
    },
    {
      "cell_type": "markdown",
      "metadata": {
        "id": "l5aE3pOf8a8x"
      },
      "source": [
        "yang akan kita scaling hanya pada bagian x_train dan x_test, karena jarak antara age dan salary terlalu besar"
      ]
    },
    {
      "cell_type": "code",
      "metadata": {
        "id": "os283DDX3qvL"
      },
      "source": [
        "from sklearn.preprocessing import StandardScaler\n",
        "sc = StandardScaler()\n",
        "x_train[:, 4:] = sc.fit_transform(x_train[:, 4:])\n",
        "x_test[:, 4:] = sc.transform(x_test[:, 4:])"
      ],
      "execution_count": 25,
      "outputs": []
    },
    {
      "cell_type": "markdown",
      "metadata": {
        "id": "_vUkNwGC6Mdm"
      },
      "source": [
        "kita panggil *x_train* yang baru"
      ]
    },
    {
      "cell_type": "code",
      "metadata": {
        "colab": {
          "base_uri": "https://localhost:8080/"
        },
        "id": "6bpDAtLT6EBV",
        "outputId": "0133323d-6a2e-422c-fa9f-627a6beada4c"
      },
      "source": [
        "print(x_train)"
      ],
      "execution_count": 26,
      "outputs": [
        {
          "output_type": "stream",
          "text": [
            "[[1.0 0.0 0.0 0.0 -0.19159184384578545 -1.0781259408412425]\n",
            " [0.0 0.0 0.0 1.0 -0.014117293757057777 -0.07013167641635372]\n",
            " [0.0 0.0 1.0 0.0 0.566708506533324 0.633562432710455]\n",
            " [1.0 0.0 0.0 0.0 -0.30453019390224867 -0.30786617274297867]\n",
            " [1.0 0.0 0.0 0.0 -1.9018011447007988 -1.420463615551582]\n",
            " [0.0 0.0 1.0 0.0 1.1475343068237058 1.232653363453549]\n",
            " [0.0 1.0 0.0 0.0 1.4379472069688968 1.5749910381638885]\n",
            " [0.0 0.0 1.0 0.0 -0.7401495441200351 -0.5646194287757332]]\n"
          ],
          "name": "stdout"
        }
      ]
    },
    {
      "cell_type": "code",
      "metadata": {
        "colab": {
          "base_uri": "https://localhost:8080/"
        },
        "id": "LGlPxLt_6bPr",
        "outputId": "b350e5b0-5fc3-4ca2-8e4d-53ad5f1e9c0f"
      },
      "source": [
        "print(x_test)"
      ],
      "execution_count": 27,
      "outputs": [
        {
          "output_type": "stream",
          "text": [
            "[[0.0 0.0 0.0 1.0 -1.4661817944830124 -0.9069571034860727]\n",
            " [0.0 0.0 1.0 0.0 -0.44973664397484414 0.2056403393225306]]\n"
          ],
          "name": "stdout"
        }
      ]
    }
  ]
}